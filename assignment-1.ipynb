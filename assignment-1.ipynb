{
 "cells": [
  {
   "cell_type": "code",
   "execution_count": 1,
   "id": "4d27328c",
   "metadata": {},
   "outputs": [
    {
     "name": "stdout",
     "output_type": "stream",
     "text": [
      "HELLO WORLD\n"
     ]
    }
   ],
   "source": [
    "print(\"HELLO WORLD\");"
   ]
  },
  {
   "cell_type": "code",
   "execution_count": 13,
   "id": "929f02a6",
   "metadata": {},
   "outputs": [
    {
     "name": "stdout",
     "output_type": "stream",
     "text": [
      "twinkle, twinkle, little star,\n",
      "\n",
      "\t how i wonder what you are\n",
      "\n",
      "\t up above the what so high,\n",
      "\t\t like a diamond in the sky.\n",
      "\n",
      "\twinkle,twinkle,little star,\n",
      "\n",
      "\t how i wonder whatyou are\n"
     ]
    }
   ],
   "source": [
    "print(\"twinkle, twinkle, little star,\");\n",
    "print(\"\\n\\t how i wonder what you are\");\n",
    "print(\"\\n\\t up above the what so high,\");\n",
    "print(\"\\t\\t like a diamond in the sky.\");\n",
    "print(\"\\n\\twinkle,twinkle,little star,\");\n",
    "print(\"\\n\\t how i wonder whatyou are\");"
   ]
  },
  {
   "cell_type": "code",
   "execution_count": 15,
   "id": "b0586e3b",
   "metadata": {},
   "outputs": [
    {
     "name": "stdout",
     "output_type": "stream",
     "text": [
      "python version\n",
      "sys.version\n",
      "version info.\n",
      "sys.version_info(major=3, minor=9, micro=7, releaselevel='final', serial=0)\n"
     ]
    }
   ],
   "source": [
    "import sys\n",
    "print(\"python version\")\n",
    "print(\"sys.version\")\n",
    "print(\"version info.\")\n",
    "print(sys.version_info)"
   ]
  },
  {
   "cell_type": "code",
   "execution_count": 21,
   "id": "383b3796",
   "metadata": {},
   "outputs": [
    {
     "name": "stdout",
     "output_type": "stream",
     "text": [
      "current date and time:\n",
      "2022-01-01 01:24:31\n"
     ]
    }
   ],
   "source": [
    "import datetime\n",
    "now = datetime.datetime.now()\n",
    "print (\"current date and time:\")\n",
    "print (now.strftime(\"%Y-%m-%d %H:%M:%S\"))"
   ]
  },
  {
   "cell_type": "code",
   "execution_count": 58,
   "id": "47c70d18",
   "metadata": {},
   "outputs": [
    {
     "name": "stdout",
     "output_type": "stream",
     "text": [
      "enter radius of circle:8\n",
      "area of the circle is:201.06192982974676\n"
     ]
    }
   ],
   "source": [
    "from math import pi\n",
    "r=float(input(\"enter radius of circle:\"))\n",
    "print(\"area of the circle is:\" +str(pi*r**2))"
   ]
  },
  {
   "cell_type": "code",
   "execution_count": 61,
   "id": "9d585bab",
   "metadata": {},
   "outputs": [
    {
     "name": "stdout",
     "output_type": "stream",
     "text": [
      "input your first name:hammad\n",
      "input your last name:bhatti\n",
      "hello bhattihammad\n"
     ]
    }
   ],
   "source": [
    "# 1st & last name\n",
    "firstname=input(\"input your first name:\")\n",
    "lastname=input(\"input your last name:\")\n",
    "print(\"hello \"+ lastname + \"\" + firstname)"
   ]
  },
  {
   "cell_type": "code",
   "execution_count": 62,
   "id": "b495be61",
   "metadata": {},
   "outputs": [
    {
     "name": "stdout",
     "output_type": "stream",
     "text": [
      "enter number 1:78\n",
      "enter number 2:23\n",
      "78 + 23 =101\n"
     ]
    }
   ],
   "source": [
    "num1=int(input(\"enter number 1:\"))\n",
    "num2=int(input(\"enter number 2:\"))\n",
    "result=num1 + num2 \n",
    "print(\"{0} + {1} ={2}\".format(num1,num2,result))"
   ]
  },
  {
   "cell_type": "code",
   "execution_count": null,
   "id": "62839a75",
   "metadata": {},
   "outputs": [],
   "source": []
  }
 ],
 "metadata": {
  "kernelspec": {
   "display_name": "Python 3 (ipykernel)",
   "language": "python",
   "name": "python3"
  },
  "language_info": {
   "codemirror_mode": {
    "name": "ipython",
    "version": 3
   },
   "file_extension": ".py",
   "mimetype": "text/x-python",
   "name": "python",
   "nbconvert_exporter": "python",
   "pygments_lexer": "ipython3",
   "version": "3.9.7"
  }
 },
 "nbformat": 4,
 "nbformat_minor": 5
}
